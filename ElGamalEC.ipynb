{
 "cells": [
  {
   "cell_type": "code",
   "execution_count": 1,
   "id": "e1240879",
   "metadata": {},
   "outputs": [],
   "source": [
    "from EllipticCurve import *\n",
    "from Dudes import *\n",
    "from time import time"
   ]
  },
  {
   "cell_type": "code",
   "execution_count": 2,
   "id": "c8dfd420",
   "metadata": {},
   "outputs": [],
   "source": [
    "curve = EllipticCurve(prime_number=3795587, x1_coefficient=5, x0_coefficient=7)"
   ]
  },
  {
   "cell_type": "code",
   "execution_count": 3,
   "id": "ad1b60b3",
   "metadata": {},
   "outputs": [],
   "source": [
    "# try:\n",
    "#     for point in curve.point_generator():\n",
    "#         print(point)\n",
    "#     #     print(curve.order(point))\n",
    "# except KeyboardInterrupt:\n",
    "#     pass"
   ]
  },
  {
   "cell_type": "code",
   "execution_count": 4,
   "id": "011a874a",
   "metadata": {},
   "outputs": [],
   "source": [
    "point = Point(0, 1252240)\n",
    "assert curve.is_point_on_curve(point)"
   ]
  },
  {
   "cell_type": "code",
   "execution_count": 5,
   "id": "a7fbd7af",
   "metadata": {},
   "outputs": [],
   "source": [
    "point_order = 3798301\n",
    "# point_order = curve.order(point)\n",
    "# print(point_order)"
   ]
  },
  {
   "cell_type": "code",
   "execution_count": 6,
   "id": "a64c1071",
   "metadata": {},
   "outputs": [
    {
     "name": "stdout",
     "output_type": "stream",
     "text": [
      "Alice sent message: 790133 (278292 encrypted)\n"
     ]
    }
   ],
   "source": [
    "bob = Bob(curve, point, point_order)\n",
    "alice = Alice(curve, point, point_order)\n",
    "eva = Eva(curve, point, point_order)\n",
    "\n",
    "bob.send_public_key(alice, eva)\n",
    "alice.send_public_key(bob, eva)\n",
    "\n",
    "bob.make_shared_key()\n",
    "alice.make_shared_key()\n",
    "\n",
    "assert bob.shared_key == alice.shared_key\n",
    "\n",
    "alice.send_message(bob, eva)"
   ]
  },
  {
   "cell_type": "code",
   "execution_count": 7,
   "id": "095fda7e",
   "metadata": {},
   "outputs": [
    {
     "name": "stdout",
     "output_type": "stream",
     "text": [
      "Bob received message: 278292 (790133 decrypted)\n"
     ]
    },
    {
     "data": {
      "text/plain": [
       "'Time elapsed (Bob): 0.000000 sec'"
      ]
     },
     "execution_count": 7,
     "metadata": {},
     "output_type": "execute_result"
    }
   ],
   "source": [
    "time1 = time()\n",
    "bob.decrypt_message()\n",
    "time2 = time()\n",
    "'Time elapsed (Bob): %f sec' % (time2 - time1)"
   ]
  },
  {
   "cell_type": "code",
   "execution_count": 8,
   "id": "3f5c61ed",
   "metadata": {},
   "outputs": [
    {
     "name": "stderr",
     "output_type": "stream",
     "text": [
      "                                                                                                                                                                                                                                            "
     ]
    },
    {
     "name": "stdout",
     "output_type": "stream",
     "text": [
      "Eva received message: 278292 (790133 decrypted)\n"
     ]
    },
    {
     "name": "stderr",
     "output_type": "stream",
     "text": [
      "\r"
     ]
    },
    {
     "data": {
      "text/plain": [
       "'Time elapsed (Eva): 17.222323 sec'"
      ]
     },
     "execution_count": 8,
     "metadata": {},
     "output_type": "execute_result"
    }
   ],
   "source": [
    "time1 = time()\n",
    "eva.decrypt_message()\n",
    "time2 = time()\n",
    "'Time elapsed (Eva): %f sec' % (time2 - time1)"
   ]
  },
  {
   "cell_type": "code",
   "execution_count": null,
   "id": "0acfce5e",
   "metadata": {},
   "outputs": [],
   "source": []
  }
 ],
 "metadata": {
  "kernelspec": {
   "display_name": "Python 3",
   "language": "python",
   "name": "python3"
  },
  "language_info": {
   "codemirror_mode": {
    "name": "ipython",
    "version": 3
   },
   "file_extension": ".py",
   "mimetype": "text/x-python",
   "name": "python",
   "nbconvert_exporter": "python",
   "pygments_lexer": "ipython3",
   "version": "3.9.2"
  }
 },
 "nbformat": 4,
 "nbformat_minor": 5
}
